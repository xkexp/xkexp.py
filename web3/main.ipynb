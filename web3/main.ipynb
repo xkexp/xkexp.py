{
 "cells": [
  {
   "cell_type": "code",
   "execution_count": null,
   "metadata": {},
   "outputs": [],
   "source": [
    "from eth_account import Account\n",
    "import datetime\n",
    "\n",
    "# 钱包\n",
    "account = Account.create('RandomSeed' + str(datetime.datetime.now()))\n",
    "wallet ={\n",
    "  \"private_key\": account._key_obj,\n",
    "  \"public_key\": account._key_obj.public_key,\n",
    "  \"address\": account._key_obj.public_key.to_checksum_address()\n",
    "}\n",
    "wallet"
   ]
  },
  {
   "cell_type": "code",
   "execution_count": null,
   "metadata": {},
   "outputs": [],
   "source": [
    "from web3.auto import w3\n",
    "from eth_account.messages import encode_defunct\n",
    "\n",
    "# 签名\n",
    "message = encode_defunct(\"bdfadfdsafds\".encode())\n",
    "w3.eth.account.sign_message(message, wallet['private_key'])"
   ]
  }
 ],
 "metadata": {
  "interpreter": {
   "hash": "363355e34703fadeb8a5d8cf5200a42ce79a7a2c8e760d7a8b139c4640723a23"
  },
  "kernelspec": {
   "display_name": "Python 3.10.5 ('venv': venv)",
   "language": "python",
   "name": "python3"
  },
  "language_info": {
   "codemirror_mode": {
    "name": "ipython",
    "version": 3
   },
   "file_extension": ".py",
   "mimetype": "text/x-python",
   "name": "python",
   "nbconvert_exporter": "python",
   "pygments_lexer": "ipython3",
   "version": "3.10.5"
  },
  "orig_nbformat": 4
 },
 "nbformat": 4,
 "nbformat_minor": 2
}
