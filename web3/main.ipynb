{
 "cells": [
  {
   "cell_type": "code",
   "execution_count": null,
   "metadata": {},
   "outputs": [],
   "source": [
    "from eth_account import Account\n",
    "import datetime\n",
    "\n",
    "# 钱包\n",
    "account = Account.create('RandomSeed' + str(datetime.datetime.now()))\n",
    "wallet ={\n",
    "  \"private_key\": account._key_obj,\n",
    "  \"public_key\": account._key_obj.public_key,\n",
    "  \"address\": account._key_obj.public_key.to_checksum_address()\n",
    "}\n",
    "wallet"
   ]
  },
  {
   "cell_type": "code",
   "execution_count": 38,
   "metadata": {},
   "outputs": [
    {
     "data": {
      "text/plain": [
       "SignedMessage(messageHash=HexBytes('0xef495c8f889cd5eddcba3035ba2d1b7c01a2854db32a4dfabe7d9aa4a4ee8b65'), r=26309405226682646731464063110003828452748713277689218359465644783609391321636, s=40448064636723484932387249455560716521187276590861722116385760456096085858956, v=27, signature=HexBytes('0x3a2a987ce09cac7a26ccd86deff8759415bc50dd9c893d7e034db86dcbc79224596ccb1556e109bd34c8a985cd2d74310de99aaf1cc71bac40e3d781ca5e5a8c1b'))"
      ]
     },
     "execution_count": 38,
     "metadata": {},
     "output_type": "execute_result"
    }
   ],
   "source": [
    "from web3.auto import w3\n",
    "from eth_account.messages import encode_defunct\n",
    "\n",
    "# 签名\n",
    "message = encode_defunct(\"bdfadfdsafds\".encode())\n",
    "w3.eth.account.sign_message(message, wallet['private_key'])"
   ]
  }
 ],
 "metadata": {
  "interpreter": {
   "hash": "363355e34703fadeb8a5d8cf5200a42ce79a7a2c8e760d7a8b139c4640723a23"
  },
  "kernelspec": {
   "display_name": "Python 3.10.5 ('venv': venv)",
   "language": "python",
   "name": "python3"
  },
  "language_info": {
   "codemirror_mode": {
    "name": "ipython",
    "version": 3
   },
   "file_extension": ".py",
   "mimetype": "text/x-python",
   "name": "python",
   "nbconvert_exporter": "python",
   "pygments_lexer": "ipython3",
   "version": "3.10.5"
  },
  "orig_nbformat": 4
 },
 "nbformat": 4,
 "nbformat_minor": 2
}
